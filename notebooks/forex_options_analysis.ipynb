{
 "cells": [
  {
   "cell_type": "markdown",
   "metadata": {},
   "source": [
    "# EUR/TND Forex Options Analysis\n",
    "\n",
    "This notebook provides an interactive analysis of forex options on the EUR/TND currency pair using the pricing system."
   ]
  },
  {
   "cell_type": "markdown",
   "metadata": {},
   "source": [
    "## Setup\n",
    "\n",
    "First, let's import the necessary modules and initialize the system."
   ]
  },
  {
   "cell_type": "code",
   "execution_count": null,
   "metadata": {},
   "source": [
    "import os\n",
    "import sys\n",
    "import numpy as np\n",
    "import pandas as pd\n",
    "import matplotlib.pyplot as plt\n",
    "import seaborn as sns\n",
    "from datetime import datetime\n",
    "from IPython.display import display\n",
    "\n",
    "# Add the src directory to the path\n",
    "sys.path.insert(0, os.path.abspath('..'))\n",
    "\n",
    "# Import forex options modules\n",
    "from src.forex_options.market_data import MarketDataGenerator\n",
    "from src.forex_options.options_gen import OptionsGenerator\n",
    "from src.forex_options.pricing import BlackScholesFX, MertonJumpDiffusion, SABR, PricingEngine\n",
    "from src.forex_options.portfolio import PortfolioManager\n",
    "from src.forex_options.evaluation import ModelEvaluator\n",
    "from src.forex_options.visualization import VisualizationManager\n",
    "\n",
    "# Set plot style\n",
    "plt.style.use('seaborn-v0_8-whitegrid')\n",
    "sns.set_context(\"notebook\", font_scale=1.2)\n",
    "\n",
    "# Display settings\n",
    "pd.set_option('display.max_columns', None)\n",
    "pd.set_option('display.width', 1000)\n",
    "pd.set_option('display.precision', 4)"
   ]
  },
  {
   "cell_type": "markdown",
   "metadata": {},
   "source": [
    "## Market Data\n",
    "\n",
    "Let's initialize and load (or generate) the market data."
   ]
  },
  {
   "cell_type": "code",
   "execution_count": null,
   "metadata": {},
   "source": [
    "# Initialize market data\n",
    "market_data = MarketDataGenerator(\n",
    "    start_date='2023-01-01',\n",
    "    end_date='2024-12-31',\n",
    "    base_eur_tnd_rate=3.35,\n",
    "    eur_rate_mean=0.03,\n",
    "    tnd_rate_mean=0.08\n",
    ")\n",
    "\n",
    "# Try to load data, if not available, generate it\n",
    "data_dir = '../data'\n",
    "if not market_data.check_or_generate_data(data_dir):\n",
    "    print(\"Failed to load or generate market data.\")"
   ]
  },
  {
   "cell_type": "markdown",
   "metadata": {},
   "source": [
    "### Explore Exchange Rate Data"
   ]
  },
  {
   "cell_type": "code",
   "execution_count": null,
   "metadata": {},
   "source": [
    "# Display exchange rate data\n",
    "print(\"Exchange Rate Summary:\")\n",
    "display(market_data.eur_tnd_daily.describe())\n",
    "\n",
    "# Plot exchange rate\n",
    "plt.figure(figsize=(12, 6))\n",
    "plt.plot(market_data.eur_tnd_daily['Date'], market_data.eur_tnd_daily['EUR/TND'])\n",
    "plt.title('EUR/TND Exchange Rate')\n",
    "plt.xlabel('Date')\n",
    "plt.ylabel('Rate')\n",
    "plt.grid(True)\n",
    "plt.show()\n",
    "\n",
    "# Plot volatility\n",
    "plt.figure(figsize=(12, 6))\n",
    "for window in [5, 21, 63]:\n",
    "    vol_col = f'{window}d_Volatility'\n",
    "    plt.plot(market_data.eur_tnd_daily['Date'], market_data.eur_tnd_daily[vol_col], label=f'{window}-day volatility')\n",
    "plt.title('EUR/TND Realized Volatility')\n",
    "plt.xlabel('Date')\n",
    "plt.ylabel('Annualized Volatility')\n",
    "plt.legend()\n",
    "plt.grid(True)\n",
    "plt.show()"
   ]
  },
  {
   "cell_type": "markdown",
   "metadata": {},
   "source": [
    "### Explore Interest Rate Data"
   ]
  },
  {
   "cell_type": "code",
   "execution_count": null,
   "metadata": {},
   "source": [
    "# Display interest rate data\n",
    "print(\"EUR Interest Rate Summary:\")\n",
    "display(market_data.eur_rates_monthly.describe())\n",
    "\n",
    "print(\"TND Interest Rate Summary:\")\n",
    "display(market_data.tnd_rates_monthly.describe())\n",
    "\n",
    "# Plot interest rates\n",
    "plt.figure(figsize=(12, 6))\n",
    "plt.plot(market_data.eur_rates_monthly['Date'], market_data.eur_rates_monthly['EUR_Rate'], label='EUR Interest Rate')\n",
    "plt.plot(market_data.tnd_rates_monthly['Date'], market_data.tnd_rates_monthly['TND_Rate'], label='TND Interest Rate')\n",
    "plt.title('Interest Rates')\n",
    "plt.xlabel('Date')\n",
    "plt.ylabel('Rate')\n",
    "plt.legend()\n",
    "plt.grid(True)\n",
    "plt.show()\n",
    "\n",
    "# Calculate interest rate differential\n",
    "dates = pd.merge(market_data.eur_rates_monthly[['Date']], market_data.tnd_rates_monthly[['Date']], on='Date')['Date']\n",
    "eur_rates = market_data.eur_rates_monthly[market_data.eur_rates_monthly['Date'].isin(dates)]\n",
    "tnd_rates = market_data.tnd_rates_monthly[market_data.tnd_rates_monthly['Date'].isin(dates)]\n",
    "differential = tnd_rates['TND_Rate'].values - eur_rates['EUR_Rate'].values\n",
    "\n",
    "plt.figure(figsize=(12, 6))\n",
    "plt.plot(dates, differential)\n",
    "plt.title('TND-EUR Interest Rate Differential')\n",
    "plt.xlabel('Date')\n",
    "plt.ylabel('Rate Differential')\n",
    "plt.grid(True)\n",
    "plt.show()"
   ]
  },
  {
   "cell_type": "markdown",
   "metadata": {},
   "source": [
    "## Options Portfolio\n",
    "\n",
    "Now, let's initialize and load (or generate) the options portfolio."
   ]
  },
  {
   "cell_type": "code",
   "execution_count": null,
   "metadata": {},
   "source": [
    "# Initialize options generator\n",
    "options_generator = OptionsGenerator(\n",
    "    market_data,\n",
    "    simulation_year=2024,\n",
    "    max_notional=10_000_000\n",
    ")\n",
    "\n",
    "# Try to load portfolio, if not available, generate it\n",
    "if not options_generator.check_or_generate_options(data_dir):\n",
    "    print(\"Failed to load or generate options portfolio.\")"
   ]
  },
  {
   "cell_type": "markdown",
   "metadata": {},
   "source": [
    "### Explore Options Portfolio"
   ]
  },
  {
   "cell_type": "code",
   "execution_count": null,
   "metadata": {},
   "source": [
    "# Display options portfolio summary\n",
    "portfolio = options_generator.options_portfolio\n",
    "\n",
    "print(f\"Number of options: {len(portfolio)}\")\n",
    "print(f\"Total notional: €{portfolio['NotionalEUR'].sum():,.2f}\")\n",
    "print(f\"Average tenor: {portfolio['Tenor'].mean():.1f} days\")\n",
    "print(f\"Average moneyness: {portfolio['Moneyness'].mean():.4f}\")\n",
    "\n",
    "# Display a few sample options\n",
    "display(portfolio.head())\n",
    "\n",
    "# Plot maturity distribution\n",
    "plt.figure(figsize=(10, 6))\n",
    "sns.histplot(portfolio['Tenor'], bins=20)\n",
    "plt.title('Distribution of Option Maturities')\n",
    "plt.xlabel('Tenor (days)')\n",
    "plt.ylabel('Count')\n",
    "plt.grid(True)\n",
    "plt.show()\n",
    "\n",
    "# Plot moneyness distribution\n",
    "plt.figure(figsize=(10, 6))\n",
    "sns.histplot(portfolio['Moneyness'], bins=20)\n",
    "plt.title('Distribution of Option Moneyness')\n",
    "plt.xlabel('Moneyness (Strike/Spot)')\n",
    "plt.ylabel('Count')\n",
    "plt.axvline(x=1, color='red', linestyle='--', label='At-the-money')\n",
    "plt.legend()\n",
    "plt.grid(True)\n",
    "plt.show()\n",
    "\n",
    "# Plot issue dates\n",
    "plt.figure(figsize=(10, 6))\n",
    "sns.histplot(portfolio['IssueDate'], bins=12)\n",
    "plt.title('Distribution of Option Issue Dates')\n",
    "plt.xlabel('Issue Date')\n",
    "plt.ylabel('Count')\n",
    "plt.grid(True)\n",
    "plt.show()"
   ]
  },
  {
   "cell_type": "markdown",
   "metadata": {},
   "source": [
    "## Option Pricing Models\n",
    "\n",
    "Let's explore the different pricing models by pricing a sample option."
   ]
  },
  {
   "cell_type": "code",
   "execution_count": null,
   "metadata": {},
   "source": [
    "# Get a sample option\n",
    "sample_option = portfolio.iloc[0].to_dict()\n",
    "display(pd.DataFrame([sample_option]))\n",
    "\n",
    "# Get market data for pricing date\n",
    "pricing_date = pd.Timestamp('2024-06-01')\n",
    "market_info = market_data.get_market_data(pricing_date)\n",
    "\n",
    "# Extract parameters\n",
    "S = market_info['spot_rate']  # Spot rate\n",
    "K = sample_option['StrikePrice']  # Strike\n",
    "issue_date = sample_option['IssueDate']\n",
    "maturity_date = sample_option['MaturityDate']\n",
    "T = (maturity_date - pricing_date).days / 365.0  # Time to maturity in years\n",
    "r_d = market_info['eur_rate']  # EUR rate\n",
    "r_f = market_info['tnd_rate']  # TND rate\n",
    "sigma = market_info['volatility']  # Volatility\n",
    "\n",
    "print(f\"Pricing parameters:\")\n",
    "print(f\"Spot rate (S): {S:.4f}\")\n",
    "print(f\"Strike price (K): {K:.4f}\")\n",
    "print(f\"Time to maturity (T): {T:.4f} years ({(maturity_date - pricing_date).days} days)\")\n",
    "print(f\"EUR interest rate (r_d): {r_d:.2%}\")\n",
    "print(f\"TND interest rate (r_f): {r_f:.2%}\")\n",
    "print(f\"Volatility (sigma): {sigma:.2%}\")\n",
    "print(f\"Moneyness (K/S): {K/S:.4f}\")"
   ]
  },
  {
   "cell_type": "markdown",
   "metadata": {},
   "source": [
    "### Black-Scholes (Garman-Kohlhagen) Model"
   ]
  },
  {
   "cell_type": "code",
   "execution_count": null,
   "metadata": {},
   "source": [
    "# Price with Black-Scholes\n",
    "bs_result = BlackScholesFX.price(S, K, T, r_d, r_f, sigma, 'call')\n",
    "\n",
    "print(f\"Black-Scholes Price: {bs_result.price:.4f}\")\n",
    "print(f\"Delta: {bs_result.delta:.4f}\")\n",
    "print(f\"Gamma: {bs_result.gamma:.6f}\")\n",
    "print(f\"Vega: {bs_result.vega:.6f}\")\n",
    "print(f\"Theta: {bs_result.theta:.6f}\")\n",
    "print(f\"Rho (domestic): {bs_result.rho_d:.6f}\")\n",
    "print(f\"Rho (foreign): {bs_result.rho_f:.6f}\")"
   ]
  },
  {
   "cell_type": "markdown",
   "metadata": {},
   "source": [
    "### Merton Jump Diffusion Model"
   ]
  },
  {
   "cell_type": "code",
   "execution_count": null,
   "metadata": {},
   "source": [
    "# Price with Merton Jump Diffusion\n",
    "# Define jump parameters\n",
    "lam = 1.0      # Jump frequency (1 jump per year on average)\n",
    "mu_j = -0.05   # Average jump size (-5%)\n",
    "sigma_j = 0.08 # Jump size volatility (8%)\n",
    "\n",
    "mjd_result = MertonJumpDiffusion.price(S, K, T, r_d, r_f, sigma, lam, mu_j, sigma_j, 'call')\n",
    "\n",
    "print(f\"Merton Jump Diffusion Price: {mjd_result.price:.4f}\")\n",
    "print(f\"Delta: {mjd_result.delta:.4f}\")\n",
    "print(f\"Gamma: {mjd_result.gamma:.6f}\")\n",
    "print(f\"Vega: {mjd_result.vega:.6f}\")\n",
    "print(f\"Theta: {mjd_result.theta:.6f}\")\n",
    "print(f\"Rho (domestic): {mjd_result.rho_d:.6f}\")\n",
    "print(f\"Rho (foreign): {mjd_result.rho_f:.6f}\")\n",
    "\n",
    "# Compare with Black-Scholes\n",
    "print(f\"\\nDifference from Black-Scholes:\")\n",
    "print(f\"Price difference: {mjd_result.price - bs_result.price:.4f} ({(mjd_result.price / bs_result.price - 1) * 100:.2f}%)\")\n",
    "print(f\"Delta difference: {mjd_result.delta - bs_result.delta:.4f}\")"
   ]
  },
  {
   "cell_type": "markdown",
   "metadata": {},
   "source": [
    "### SABR Stochastic Volatility Model"
   ]
  },
  {
   "cell_type": "code",
   "execution_count": null,
   "metadata": {},
   "source": [
    "# Price with SABR\n",
    "# Define SABR parameters\n",
    "alpha = sigma   # Initial volatility \n",
    "beta = 0.5      # CEV parameter (0=normal, 1=lognormal)\n",
    "rho = -0.3      # Correlation between price and volatility\n",
    "nu = 0.4        # Volatility of volatility\n",
    "\n",
    "sabr_result = SABR.price(S, K, T, r_d, r_f, alpha, beta, rho, nu, 'call')\n",
    "\n",
    "print(f\"SABR Price: {sabr_result.price:.4f}\")\n",
    "print(f\"Delta: {sabr_result.delta:.4f}\")\n",
    "print(f\"Gamma: {sabr_result.gamma:.6f}\")\n",
    "print(f\"Vega: {sabr_result.vega:.6f}\")\n",
    "print(f\"Theta: {sabr_result.theta:.6f}\")\n",
    "print(f\"Rho (domestic): {sabr_result.rho_d:.6f}\")\n",
    "print(f\"Rho (foreign): {sabr_result.rho_f:.6f}\")\n",
    "\n",
    "# Compare with Black-Scholes\n",
    "print(f\"\\nDifference from Black-Scholes:\")\n",
    "print(f\"Price difference: {sabr_result.price - bs_result.price:.4f} ({(sabr_result.price / bs_result.price - 1) * 100:.2f}%)\")\n",
    "print(f\"Delta difference: {sabr_result.delta - bs_result.delta:.4f}\")\n",
    "\n",
    "# Compare with Merton Jump Diffusion\n",
    "print(f\"\\nDifference from Merton Jump Diffusion:\")\n",
    "print(f\"Price difference: {sabr_result.price - mjd_result.price:.4f} ({(sabr_result.price / mjd_result.price - 1) * 100:.2f}%)\")\n",
    "print(f\"Delta difference: {sabr_result.delta - mjd_result.delta:.4f}\")"
   ]
  },
  {
   "cell_type": "markdown",
   "metadata": {},
   "source": [
    "## SABR Volatility Surface\n",
    "\n",
    "Let's visualize the SABR volatility surface to understand the implied volatility patterns."
   ]
  },
  {
   "cell_type": "code",
   "execution_count": null,
   "metadata": {},
   "source": [
    "# Parameters for the surface\n",
    "strikes = np.linspace(0.8 * S, 1.2 * S, 20)\n",
    "tenors = np.linspace(0.1, 1.0, 10)\n",
    "\n",
    "# Create mesh grid\n",
    "K_mesh, T_mesh = np.meshgrid(strikes, tenors)\n",
    "implied_vols = np.zeros_like(K_mesh)\n",
    "\n",
    "# Calculate implied volatilities\n",
    "for i in range(tenors.shape[0]):\n",
    "    for j in range(strikes.shape[0]):\n",
    "        # Forward price\n",
    "        F = S * np.exp((r_d - r_f) * tenors[i])\n",
    "        \n",
    "        # SABR implied volatility\n",
    "        implied_vols[i, j] = SABR.implied_vol(F, strikes[j], tenors[i], alpha, beta, rho, nu)\n",
    "\n",
    "# Plot the surface\n",
    "fig = plt.figure(figsize=(12, 8))\n",
    "ax = fig.add_subplot(111, projection='3d')\n",
    "\n",
    "surf = ax.plot_surface(K_mesh, T_mesh, implied_vols, cmap='viridis', edgecolor='none')\n",
    "\n",
    "ax.set_xlabel('Strike')\n",
    "ax.set_ylabel('Tenor (years)')\n",
    "ax.set_zlabel('Implied Volatility')\n",
    "ax.set_title('SABR Implied Volatility Surface')\n",
    "\n",
    "fig.colorbar(surf, ax=ax, shrink=0.5, aspect=5)\n",
    "plt.show()\n",
    "\n",
    "# Plot volatility smiles for different tenors\n",
    "plt.figure(figsize=(12, 6))\n",
    "\n",
    "for i, tenor_idx in enumerate([0, 2, 5, 9]):\n",
    "    if tenor_idx < len(tenors):\n",
    "        plt.plot(strikes, implied_vols[tenor_idx, :], label=f'T = {tenors[tenor_idx]:.2f}')\n",
    "\n",
    "plt.axvline(x=S, color='black', linestyle='--', label='Spot')\n",
    "\n",
    "plt.title('SABR Volatility Smiles for Different Tenors')\n",
    "plt.xlabel('Strike')\n",
    "plt.ylabel('Implied Volatility')\n",
    "plt.legend()\n",
    "plt.grid(True)\n",
    "plt.show()"
   ]
  },
  {
   "cell_type": "markdown",
   "metadata": {},
   "source": [
    "## Portfolio Pricing and Risk Analysis\n",
    "\n",
    "Now, let's price the entire portfolio and analyze the risks."
   ]
  },
  {
   "cell_type": "code",
   "execution_count": null,
   "metadata": {},
   "source": [
    "# Initialize portfolio manager\n",
    "portfolio_manager = PortfolioManager(market_data, options_generator)\n",
    "\n",
    "# Define models and parameters\n",
    "models = ['black_scholes', 'merton_jump', 'sabr']\n",
    "model_params = {\n",
    "    'merton_jump': {\n",
    "        'lambda': 1.0,\n",
    "        'mu_j': -0.05,\n",
    "        'sigma_j': 0.08\n",
    "    },\n",
    "    'sabr': {\n",
    "        'beta': 0.5,\n",
    "        'rho': -0.3,\n",
    "        'nu': 0.4\n",
    "    }\n",
    "}\n",
    "\n",
    "# Price portfolio\n",
    "pricing_date = pd.Timestamp('2024-06-01')\n",
    "results = portfolio_manager.price_portfolio(pricing_date, models, model_params)\n",
    "\n",
    "# Display results summary\n",
    "print(f\"Portfolio pricing completed with {len(results)} results across {len(models)} models.\")\n",
    "model_summary = results.groupby('model').agg(\n",
    "    count=('option_id', 'count'),\n",
    "    total_value=('option_value_eur', 'sum'),\n",
    "    avg_price=('price', 'mean'),\n",
    "    avg_delta=('delta', 'mean')\n",
    ").reset_index()\n",
    "\n",
    "display(model_summary)"
   ]
  },
  {
   "cell_type": "markdown",
   "metadata": {},
   "source": [
    "### Portfolio Risk Analysis"
   ]
  },
  {
   "cell_type": "code",
   "execution_count": null,
   "metadata": {},
   "source": [
    "# Calculate portfolio risk\n",
    "portfolio_risk = portfolio_manager.calculate_portfolio_risk()\n",
    "\n",
    "# Display risk metrics\n",
    "for model, risk in portfolio_risk.items():\n",
    "    print(f\"\\n{model.upper()} Model:\")\n",
    "    print(f\"Total value: €{risk.total_value_eur:,.2f}\")\n",
    "    print(f\"Total delta: {risk.total_delta:,.2f}\")\n",
    "    if risk.total_gamma is not None:\n",
    "        print(f\"Total gamma: {risk.total_gamma:,.6f}\")\n",
    "    if risk.total_vega is not None:\n",
    "        print(f\"Total vega: {risk.total_vega:,.6f}\")\n",
    "    if risk.total_theta is not None:\n",
    "        print(f\"Total theta: {risk.total_theta:,.6f}\")\n",
    "    print(f\"Number of options: {risk.count}\")\n",
    "\n",
    "# Plot risk metrics comparison\n",
    "metrics = ['total_value_eur', 'total_delta']\n",
    "metric_names = {'total_value_eur': 'Total Value (EUR)', 'total_delta': 'Total Delta'}\n",
    "\n",
    "for metric in metrics:\n",
    "    plt.figure(figsize=(10, 6))\n",
    "    values = [getattr(risk, metric) for risk in portfolio_risk.values()]\n",
    "    plt.bar(list(portfolio_risk.keys()), values)\n",
    "    plt.title(f'Portfolio {metric_names[metric]} by Model')\n",
    "    plt.xlabel('Model')\n",
    "    plt.ylabel(metric_names[metric])\n",
    "    plt.grid(True, axis='y')\n",
    "    plt.show()"
   ]
  },
  {
   "cell_type": "markdown",
   "metadata": {},
   "source": [
    "### Portfolio Exposure Analysis"
   ]
  },
  {
   "cell_type": "code",
   "execution_count": null,
   "metadata": {},
   "source": [
    "# Calculate exposure by maturity\n",
    "exp_maturity = portfolio_manager.calculate_exposure_by_maturity()\n",
    "\n",
    "# Convert to DataFrame for easier plotting\n",
    "exp_mat_df = pd.DataFrame(exp_maturity).T\n",
    "\n",
    "# Display exposure by maturity\n",
    "display(exp_mat_df)\n",
    "\n",
    "# Stacked bar chart\n",
    "ax = exp_mat_df.plot(kind='bar', stacked=True, figsize=(12, 6))\n",
    "ax.set_title('Portfolio Exposure by Maturity')\n",
    "ax.set_xlabel('Model')\n",
    "ax.set_ylabel('Exposure (EUR)')\n",
    "plt.grid(True, axis='y')\n",
    "plt.show()\n",
    "\n",
    "# Calculate exposure by moneyness\n",
    "exp_moneyness = portfolio_manager.calculate_exposure_by_moneyness()\n",
    "\n",
    "# Convert to DataFrame for easier plotting\n",
    "exp_mon_df = pd.DataFrame(exp_moneyness).T\n",
    "\n",
    "# Display exposure by moneyness\n",
    "display(exp_mon_df)\n",
    "\n",
    "# Stacked bar chart\n",
    "ax = exp_mon_df.plot(kind='bar', stacked=True, figsize=(12, 6))\n",
    "ax.set_title('Portfolio Exposure by Moneyness')\n",
    "ax.set_xlabel('Model')\n",
    "ax.set_ylabel('Exposure (EUR)')\n",
    "plt.grid(True, axis='y')\n",
    "plt.show()"
   ]
  },
  {
   "cell_type": "markdown",
   "metadata": {},
   "source": [
    "### Model Comparison"
   ]
  },
  {
   "cell_type": "code",
   "execution_count": null,
   "metadata": {},
   "source": [
    "# Calculate model comparison\n",
    "comparison = portfolio_manager.calculate_model_comparison(reference_model='black_scholes')\n",
    "\n",
    "# Display comparison\n",
    "display(comparison)\n",
    "\n",
    "# Plot price differences\n",
    "plt.figure(figsize=(10, 6))\n",
    "metrics = ['mean_price_diff_eur', 'median_price_diff_eur', 'max_price_diff_eur']\n",
    "metric_labels = ['Mean Diff', 'Median Diff', 'Max Diff']\n",
    "\n",
    "x = np.arange(len(comparison))\n",
    "width = 0.25\n",
    "\n",
    "for i, (metric, label) in enumerate(zip(metrics, metric_labels)):\n",
    "    plt.bar(x + i*width, comparison[metric], width, label=label)\n",
    "\n",
    "plt.xlabel('Model')\n",
    "plt.ylabel('Price Difference (EUR)')\n",
    "plt.title('Price Differences vs. Black-Scholes')\n",
    "plt.xticks(x + width, comparison['model'])\n",
    "plt.legend()\n",
    "plt.grid(True, axis='y')\n",
    "plt.show()\n",
    "\n",
    "# Plot percentage differences\n",
    "plt.figure(figsize=(10, 6))\n",
    "plt.bar(comparison['model'], comparison['mean_price_diff_pct'])\n",
    "plt.xlabel('Model')\n",
    "plt.ylabel('Mean Price Difference (%)')\n",
    "plt.title('Mean Price Difference vs. Black-Scholes (%)')\n",
    "plt.grid(True, axis='y')\n",
    "plt.show()"
   ]
  },
  {
   "cell_type": "markdown",
   "metadata": {},
   "source": [
    "## Conclusion\n",
    "\n",
    "This notebook has demonstrated the use of the forex options pricing system for EUR/TND. We've seen how different pricing models produce different results, and how the SABR model in particular can capture the volatility smile/skew observed in the market.\n",
    "\n",
    "Key takeaways:\n",
    "- The SABR model provides a more flexible framework for handling implied volatility patterns\n",
    "- The Merton Jump Diffusion model helps account for sudden market movements\n",
    "- Portfolio exposure analysis helps understand risk concentrations\n",
    "- Model comparison highlights the differences between pricing approaches\n",
    "\n",
    "For production use, it would be important to calibrate the models to actual market prices of liquid options, and to regularly update the calibration as market conditions change."
   ]
  }
 ],
 "metadata": {
  "kernelspec": {
   "display_name": "Python 3",
   "language": "python",
   "name": "python3"
  },
  "language_info": {
   "codemirror_mode": {
    "name": "ipython",
    "version": 3
   },
   "file_extension": ".py",
   "mimetype": "text/x-python",
   "name": "python",
   "nbconvert_exporter": "python",
   "pygments_lexer": "ipython3",
   "version": "3.8.10"
  }
 },
 "nbformat": 4,
 "nbformat_minor": 4
}